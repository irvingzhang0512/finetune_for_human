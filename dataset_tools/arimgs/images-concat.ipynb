{
 "cells": [
  {
   "cell_type": "code",
   "execution_count": 1,
   "metadata": {},
   "outputs": [],
   "source": [
    "import os\n",
    "import cv2\n",
    "import matplotlib.pyplot as plt\n",
    "import numpy as np\n",
    "import shutil\n",
    "import random\n",
    "\n",
    "categories = [\"nothing\", \"other\", \"close\", \"left\", \"right\", \"ok\"]\n",
    "category_name_to_id = {k: str(v) for v, k in enumerate(categories)}"
   ]
  },
  {
   "cell_type": "code",
   "execution_count": 2,
   "metadata": {},
   "outputs": [],
   "source": [
    "output_dir = \"/hdd02/zhangyiyang/temporal-shift-module/data/AR/images/final_total\"\n",
    "if not os.path.exists(output_dir):\n",
    "    os.makedirs(output_dir)\n",
    "for category in categories:\n",
    "    cur_dir = os.path.join(output_dir, category)\n",
    "    if not os.path.exists(cur_dir):\n",
    "        os.makedirs(cur_dir)"
   ]
  },
  {
   "cell_type": "code",
   "execution_count": 3,
   "metadata": {},
   "outputs": [],
   "source": [
    "def _do_copy_imgs(source_dir, target_dir, flip=False, save_every_n_steps=1):\n",
    "    cur_id = len(os.listdir(target_dir)) + 1\n",
    "    flip_cur_id = None\n",
    "    flip_target_dir = None\n",
    "    cur_category = os.path.basename(target_dir)\n",
    "    if flip:\n",
    "        if cur_category == 'left':\n",
    "            flip_target_dir = os.path.join(os.path.dirname(target_dir), 'right')\n",
    "        elif cur_category == 'right':\n",
    "            flip_target_dir = os.path.join(os.path.dirname(target_dir), 'left')\n",
    "        else:\n",
    "            flip_target_dir = target_dir\n",
    "        flip_cur_id = len(os.listdir(flip_target_dir)) + 1\n",
    "    cnt = 0\n",
    "    for idx, img_name in enumerate(os.listdir(source_dir)):\n",
    "        if idx % save_every_n_steps != 0:\n",
    "            continue\n",
    "        shutil.copy(os.path.join(source_dir, img_name), os.path.join(target_dir, str(cur_id) + \".jpg\"))\n",
    "        cur_id += 1\n",
    "        cnt += 1\n",
    "        if flip:\n",
    "            img = cv2.imread(os.path.join(source_dir, img_name))\n",
    "            img = cv2.flip(img, flipCode=1)\n",
    "            cv2.imwrite(os.path.join(flip_target_dir, str(flip_cur_id) + \"_flip.jpg\"), img)\n",
    "            flip_cur_id += 1\n",
    "            cnt += 1\n",
    "    \n",
    "    print('finish coping files from {}, get {} {} samples'.format(source_dir, cnt, cur_category))"
   ]
  },
  {
   "cell_type": "code",
   "execution_count": 4,
   "metadata": {},
   "outputs": [
    {
     "output_type": "stream",
     "name": "stdout",
     "text": "finish coping files from /hdd02/zhangyiyang/keras_classification/data/arimgs/openpose_results_manual_filter/nothing, get 498 nothing samples\nfinish coping files from /hdd02/zhangyiyang/keras_classification/data/arimgs/openpose_results_manual_filter/other, get 1858 other samples\nfinish coping files from /hdd02/zhangyiyang/keras_classification/data/arimgs/openpose_results_manual_filter/close, get 2322 close samples\nfinish coping files from /hdd02/zhangyiyang/keras_classification/data/arimgs/openpose_results_manual_filter/left, get 2466 left samples\nfinish coping files from /hdd02/zhangyiyang/keras_classification/data/arimgs/openpose_results_manual_filter/right, get 2170 right samples\nfinish coping files from /hdd02/zhangyiyang/keras_classification/data/arimgs/openpose_results_manual_filter/ok, get 3092 ok samples\n"
    }
   ],
   "source": [
    "filter_images_dir = \"/hdd02/zhangyiyang/keras_classification/data/arimgs/openpose_results_manual_filter\"\n",
    "filter_save_every_n_steps_dict = {\n",
    "    \"nothing\": 1,\n",
    "    \"other\": 1,\n",
    "    \"close\": 5,\n",
    "    \"left\": 5,\n",
    "    \"right\": 5,\n",
    "    \"ok\": 5,\n",
    "}\n",
    "for category in categories:\n",
    "    if not os.path.exists(os.path.join(filter_images_dir, category)):\n",
    "        continue\n",
    "    _do_copy_imgs(os.path.join(filter_images_dir, category), \n",
    "                  os.path.join(output_dir, category), flip=True,\n",
    "                  save_every_n_steps=filter_save_every_n_steps_dict[category])\n",
    "    "
   ]
  },
  {
   "cell_type": "code",
   "execution_count": 5,
   "metadata": {
    "tags": [
     "outputPrepend",
     "outputPrepend",
     "outputPrepend",
     "outputPrepend",
     "outputPrepend",
     "outputPrepend",
     "outputPrepend",
     "outputPrepend",
     "outputPrepend",
     "outputPrepend",
     "outputPrepend",
     "outputPrepend",
     "outputPrepend",
     "outputPrepend",
     "outputPrepend",
     "outputPrepend",
     "outputPrepend",
     "outputPrepend",
     "outputPrepend",
     "outputPrepend",
     "outputPrepend",
     "outputPrepend",
     "outputPrepend",
     "outputPrepend",
     "outputPrepend",
     "outputPrepend",
     "outputPrepend",
     "outputPrepend",
     "outputPrepend",
     "outputPrepend",
     "outputPrepend",
     "outputPrepend",
     "outputPrepend",
     "outputPrepend",
     "outputPrepend",
     "outputPrepend",
     "outputPrepend",
     "outputPrepend",
     "outputPrepend",
     "outputPrepend",
     "outputPrepend",
     "outputPrepend",
     "outputPrepend",
     "outputPrepend",
     "outputPrepend",
     "outputPrepend",
     "outputPrepend",
     "outputPrepend",
     "outputPrepend",
     "outputPrepend",
     "outputPrepend"
    ]
   },
   "outputs": [
    {
     "output_type": "stream",
     "name": "stdout",
     "text": "samples\nfinish coping files from /hdd03/zhangyiyang/data/AR/background/0527/frames/4, get 4 nothing samples\nfinish coping files from /hdd03/zhangyiyang/data/AR/background/0527/frames/5, get 4 nothing samples\nfinish coping files from /hdd03/zhangyiyang/data/AR/background/0527/frames/6, get 4 nothing samples\nfinish coping files from /hdd03/zhangyiyang/data/AR/background/0527/frames/7, get 4 nothing samples\nfinish coping files from /hdd03/zhangyiyang/data/AR/background/0527/frames/8, get 4 nothing samples\nfinish coping files from /hdd03/zhangyiyang/data/AR/background/0527/frames/9, get 4 nothing samples\nfinish coping files from /hdd03/zhangyiyang/data/AR/background/0527/frames/10, get 4 nothing samples\nfinish coping files from /hdd03/zhangyiyang/data/AR/background/0527/frames/11, get 4 nothing samples\nfinish coping files from /hdd03/zhangyiyang/data/AR/background/0527/frames/12, get 4 nothing samples\nfinish coping files from /hdd03/zhangyiyang/data/AR/background/0527/frames/13, get 4 nothing samples\nfinish coping files from /hdd03/zhangyiyang/data/AR/background/0527/frames/14, get 4 nothing samples\nfinish coping files from /hdd03/zhangyiyang/data/AR/background/0527/frames/15, get 4 nothing samples\nfinish coping files from /hdd03/zhangyiyang/data/AR/background/0527/frames/16, get 4 nothing samples\nfinish coping files from /hdd03/zhangyiyang/data/AR/background/0527/frames/17, get 4 nothing samples\nfinish coping files from /hdd03/zhangyiyang/data/AR/background/0527/frames/18, get 4 nothing samples\nfinish coping files from /hdd03/zhangyiyang/data/AR/background/0527/frames/19, get 4 nothing samples\nfinish coping files from /hdd03/zhangyiyang/data/AR/background/0527/frames/20, get 4 nothing samples\nfinish coping files from /hdd03/zhangyiyang/data/AR/background/0527/frames/21, get 4 nothing samples\nfinish coping files from /hdd03/zhangyiyang/data/AR/background/0527/frames/22, get 4 nothing samples\nfinish coping files from /hdd03/zhangyiyang/data/AR/background/0527/frames/23, get 4 nothing samples\nfinish coping files from /hdd03/zhangyiyang/data/AR/background/0527/frames/24, get 4 nothing samples\nfinish coping files from /hdd03/zhangyiyang/data/AR/background/0527/frames/25, get 4 nothing samples\nfinish coping files from /hdd03/zhangyiyang/data/AR/background/0527/frames/26, get 4 nothing samples\nfinish coping files from /hdd03/zhangyiyang/data/AR/background/0527/frames/27, get 4 nothing samples\nfinish coping files from /hdd03/zhangyiyang/data/AR/background/0527/frames/28, get 4 nothing samples\nfinish coping files from /hdd03/zhangyiyang/data/AR/background/0527/frames/29, get 4 nothing samples\nfinish coping files from /hdd03/zhangyiyang/data/AR/background/0527/frames/30, get 4 nothing samples\nfinish coping files from /hdd03/zhangyiyang/data/AR/background/0527/frames/31, get 4 nothing samples\nfinish coping files from /hdd03/zhangyiyang/data/AR/background/0527/frames/32, get 4 nothing samples\nfinish coping files from /hdd03/zhangyiyang/data/AR/background/0527/frames/33, get 4 nothing samples\nfinish coping files from /hdd03/zhangyiyang/data/AR/background/0527/frames/34, get 4 nothing samples\nfinish coping files from /hdd03/zhangyiyang/data/AR/background/0527/frames/35, get 4 nothing samples\nfinish coping files from /hdd03/zhangyiyang/data/AR/background/0527/frames/36, get 4 nothing samples\nfinish coping files from /hdd03/zhangyiyang/data/AR/background/0527/frames/37, get 4 nothing samples\nfinish coping files from /hdd03/zhangyiyang/data/AR/background/0527/frames/38, get 4 nothing samples\nfinish coping files from /hdd03/zhangyiyang/data/AR/background/0527/frames/39, get 4 nothing samples\nfinish coping files from /hdd03/zhangyiyang/data/AR/background/0527/frames/40, get 4 nothing samples\nfinish coping files from /hdd03/zhangyiyang/data/AR/background/0527/frames/41, get 4 nothing samples\nfinish coping files from /hdd03/zhangyiyang/data/AR/background/0527/frames/42, get 4 nothing samples\nfinish coping files from /hdd03/zhangyiyang/data/AR/background/0527/frames/43, get 4 nothing samples\nfinish coping files from /hdd03/zhangyiyang/data/AR/background/0527/frames/44, get 4 nothing samples\nfinish coping files from /hdd03/zhangyiyang/data/AR/background/0527/frames/45, get 4 nothing samples\nfinish coping files from /hdd03/zhangyiyang/data/AR/background/0527/frames/46, get 4 nothing samples\nfinish coping files from /hdd03/zhangyiyang/data/AR/background/0527/frames/47, get 4 nothing samples\nfinish coping files from /hdd03/zhangyiyang/data/AR/background/0527/frames/48, get 4 nothing samples\nfinish coping files from /hdd03/zhangyiyang/data/AR/background/0527/frames/49, get 4 nothing samples\nfinish coping files from /hdd03/zhangyiyang/data/AR/background/0527/frames/50, get 4 nothing samples\nfinish coping files from /hdd03/zhangyiyang/data/AR/background/0527/frames/51, get 4 nothing samples\nfinish coping files from /hdd03/zhangyiyang/data/AR/background/0527/frames/52, get 4 nothing samples\nfinish coping files from /hdd03/zhangyiyang/data/AR/background/0527/frames/53, get 4 nothing samples\nfinish coping files from /hdd03/zhangyiyang/data/AR/background/0527/frames/54, get 4 nothing samples\nfinish coping files from /hdd03/zhangyiyang/data/AR/background/0527/frames/55, get 4 nothing samples\nfinish coping files from /hdd03/zhangyiyang/data/AR/background/0527/frames/56, get 4 nothing samples\nfinish coping files from /hdd03/zhangyiyang/data/AR/background/0527/frames/57, get 4 nothing samples\nfinish coping files from /hdd03/zhangyiyang/data/AR/background/0527/frames/58, get 4 nothing samples\nfinish coping files from /hdd03/zhangyiyang/data/AR/background/0527/frames/59, get 4 nothing samples\nfinish coping files from /hdd03/zhangyiyang/data/AR/background/0527/frames/60, get 4 nothing samples\nfinish coping files from /hdd03/zhangyiyang/data/AR/background/0527/frames/61, get 4 nothing samples\nfinish coping files from /hdd03/zhangyiyang/data/AR/background/0527/frames/62, get 4 nothing samples\nfinish coping files from /hdd03/zhangyiyang/data/AR/background/0527/frames/63, get 4 nothing samples\nfinish coping files from /hdd03/zhangyiyang/data/AR/background/0527/frames/64, get 4 nothing samples\nfinish coping files from /hdd03/zhangyiyang/data/AR/background/0527/frames/65, get 4 nothing samples\nfinish coping files from /hdd03/zhangyiyang/data/AR/background/0527/frames/66, get 4 nothing samples\nfinish coping files from /hdd03/zhangyiyang/data/AR/background/0527/frames/67, get 4 nothing samples\nfinish coping files from /hdd03/zhangyiyang/data/AR/background/0527/frames/68, get 4 nothing samples\nfinish coping files from /hdd03/zhangyiyang/data/AR/background/0527/frames/69, get 4 nothing samples\nfinish coping files from /hdd03/zhangyiyang/data/AR/background/0527/frames/70, get 4 nothing samples\nfinish coping files from /hdd03/zhangyiyang/data/AR/background/0527/frames/71, get 4 nothing samples\nfinish coping files from /hdd03/zhangyiyang/data/AR/background/0527/frames/72, get 4 nothing samples\nfinish coping files from /hdd03/zhangyiyang/data/AR/background/0527/frames/73, get 4 nothing samples\nfinish coping files from /hdd03/zhangyiyang/data/AR/background/0527/frames/74, get 4 nothing samples\nfinish coping files from /hdd03/zhangyiyang/data/AR/background/0527/frames/75, get 4 nothing samples\nfinish coping files from /hdd03/zhangyiyang/data/AR/background/0527/frames/76, get 4 nothing samples\nfinish coping files from /hdd03/zhangyiyang/data/AR/background/0527/frames/77, get 4 nothing samples\nfinish coping files from /hdd03/zhangyiyang/data/AR/background/0527/frames/78, get 4 nothing samples\nfinish coping files from /hdd03/zhangyiyang/data/AR/background/0527/frames/79, get 4 nothing samples\nfinish coping files from /hdd03/zhangyiyang/data/AR/background/0527/frames/80, get 4 nothing samples\nfinish coping files from /hdd03/zhangyiyang/data/AR/background/0527/frames/81, get 4 nothing samples\nfinish coping files from /hdd03/zhangyiyang/data/AR/background/0527/frames/82, get 4 nothing samples\nfinish coping files from /hdd03/zhangyiyang/data/AR/background/0527/frames/83, get 4 nothing samples\nfinish coping files from /hdd03/zhangyiyang/data/AR/background/0527/frames/84, get 4 nothing samples\nfinish coping files from /hdd03/zhangyiyang/data/AR/background/0527/frames/85, get 4 nothing samples\nfinish coping files from /hdd03/zhangyiyang/data/AR/background/0527/frames/86, get 4 nothing samples\nfinish coping files from /hdd03/zhangyiyang/data/AR/background/0527/frames/87, get 4 nothing samples\nfinish coping files from /hdd03/zhangyiyang/data/AR/background/0527/frames/88, get 4 nothing samples\nfinish coping files from /hdd03/zhangyiyang/data/AR/background/0527/frames/89, get 4 nothing samples\nfinish coping files from /hdd03/zhangyiyang/data/AR/background/0527/frames/90, get 4 nothing samples\nfinish coping files from /hdd03/zhangyiyang/data/AR/background/0527/frames/91, get 4 nothing samples\nfinish coping files from /hdd03/zhangyiyang/data/AR/background/0527/frames/92, get 4 nothing samples\nfinish coping files from /hdd03/zhangyiyang/data/AR/background/0527/frames/93, get 4 nothing samples\nfinish coping files from /hdd03/zhangyiyang/data/AR/background/0527/frames/94, get 4 nothing samples\nfinish coping files from /hdd03/zhangyiyang/data/AR/background/0527/frames/95, get 4 nothing samples\nfinish coping files from /hdd03/zhangyiyang/data/AR/background/0527/frames/96, get 4 nothing samples\nfinish coping files from /hdd03/zhangyiyang/data/AR/background/0527/frames/97, get 4 nothing samples\nfinish coping files from /hdd03/zhangyiyang/data/AR/background/0527/frames/98, get 4 nothing samples\nfinish coping files from /hdd03/zhangyiyang/data/AR/background/0527/frames/99, get 4 nothing samples\nfinish coping files from /hdd03/zhangyiyang/data/AR/background/0527/frames/100, get 4 nothing samples\nfinish coping files from /hdd03/zhangyiyang/data/AR/background/0527/frames/101, get 4 nothing samples\nfinish coping files from /hdd03/zhangyiyang/data/AR/background/0527/frames/102, get 4 nothing samples\nfinish coping files from /hdd03/zhangyiyang/data/AR/background/0527/frames/103, get 4 nothing samples\nfinish coping files from /hdd03/zhangyiyang/data/AR/background/0527/frames/104, get 4 nothing samples\nfinish coping files from /hdd03/zhangyiyang/data/AR/background/0527/frames/105, get 4 nothing samples\nfinish coping files from /hdd03/zhangyiyang/data/AR/background/0527/frames/106, get 4 nothing samples\nfinish coping files from /hdd03/zhangyiyang/data/AR/background/0527/frames/107, get 4 nothing samples\nfinish coping files from /hdd03/zhangyiyang/data/AR/background/0527/frames/108, get 4 nothing samples\nfinish coping files from /hdd03/zhangyiyang/data/AR/background/0527/frames/109, get 4 nothing samples\nfinish coping files from /hdd03/zhangyiyang/data/AR/background/0527/frames/110, get 4 nothing samples\nfinish coping files from /hdd03/zhangyiyang/data/AR/background/0527/frames/111, get 4 nothing samples\nfinish coping files from /hdd03/zhangyiyang/data/AR/background/0527/frames/112, get 4 nothing samples\nfinish coping files from /hdd03/zhangyiyang/data/AR/background/0527/frames/113, get 4 nothing samples\nfinish coping files from /hdd03/zhangyiyang/data/AR/background/0527/frames/114, get 4 nothing samples\nfinish coping files from /hdd03/zhangyiyang/data/AR/background/0527/frames/115, get 4 nothing samples\nfinish coping files from /hdd03/zhangyiyang/data/AR/background/0527/frames/116, get 4 nothing samples\nfinish coping files from /hdd03/zhangyiyang/data/AR/background/0527/frames/117, get 4 nothing samples\nfinish coping files from /hdd03/zhangyiyang/data/AR/background/0527/frames/118, get 4 nothing samples\nfinish coping files from /hdd03/zhangyiyang/data/AR/background/0527/frames/119, get 4 nothing samples\nfinish coping files from /hdd03/zhangyiyang/data/AR/background/0527/frames/120, get 4 nothing samples\nfinish coping files from /hdd03/zhangyiyang/data/AR/background/0527/frames/121, get 4 nothing samples\nfinish coping files from /hdd03/zhangyiyang/data/AR/background/0527/frames/122, get 4 nothing samples\nfinish coping files from /hdd03/zhangyiyang/data/AR/background/0527/frames/123, get 4 nothing samples\nfinish coping files from /hdd03/zhangyiyang/data/AR/background/0527/frames/124, get 4 nothing samples\nfinish coping files from /hdd03/zhangyiyang/data/AR/background/0527/frames/125, get 4 nothing samples\nfinish coping files from /hdd03/zhangyiyang/data/AR/background/0527/frames/126, get 4 nothing samples\nfinish coping files from /hdd03/zhangyiyang/data/AR/background/0527/frames/127, get 4 nothing samples\nfinish coping files from /hdd03/zhangyiyang/data/AR/background/0527/frames/128, get 4 nothing samples\nfinish coping files from /hdd03/zhangyiyang/data/AR/background/0527/frames/129, get 4 nothing samples\nfinish coping files from /hdd03/zhangyiyang/data/AR/background/0527/frames/130, get 4 nothing samples\nfinish coping files from /hdd03/zhangyiyang/data/AR/background/0527/frames/131, get 4 nothing samples\nfinish coping files from /hdd03/zhangyiyang/data/AR/background/0527/frames/132, get 4 nothing samples\nfinish coping files from /hdd03/zhangyiyang/data/AR/background/0527/frames/133, get 4 nothing samples\nfinish coping files from /hdd03/zhangyiyang/data/AR/background/0527/frames/134, get 4 nothing samples\nfinish coping files from /hdd03/zhangyiyang/data/AR/background/0527/frames/135, get 4 nothing samples\nfinish coping files from /hdd03/zhangyiyang/data/AR/background/0527/frames/136, get 4 nothing samples\nfinish coping files from /hdd03/zhangyiyang/data/AR/background/0527/frames/137, get 4 nothing samples\nfinish coping files from /hdd03/zhangyiyang/data/AR/background/0527/frames/138, get 4 nothing samples\nfinish coping files from /hdd03/zhangyiyang/data/AR/background/0527/frames/139, get 4 nothing samples\nfinish coping files from /hdd03/zhangyiyang/data/AR/background/0527/frames/140, get 4 nothing samples\nfinish coping files from /hdd03/zhangyiyang/data/AR/background/0527/frames/141, get 4 nothing samples\nfinish coping files from /hdd03/zhangyiyang/data/AR/background/0527/frames/142, get 4 nothing samples\nfinish coping files from /hdd03/zhangyiyang/data/AR/background/0527/frames/143, get 4 nothing samples\nfinish coping files from /hdd03/zhangyiyang/data/AR/background/0527/frames/144, get 4 nothing samples\nfinish coping files from /hdd03/zhangyiyang/data/AR/background/0527/frames/145, get 4 nothing samples\nfinish coping files from /hdd03/zhangyiyang/data/AR/background/0527/frames/146, get 4 nothing samples\nfinish coping files from /hdd03/zhangyiyang/data/AR/background/0527/frames/147, get 4 nothing samples\nfinish coping files from /hdd03/zhangyiyang/data/AR/background/0527/frames/148, get 4 nothing samples\nfinish coping files from /hdd03/zhangyiyang/data/AR/background/0527/frames/149, get 4 nothing samples\nfinish coping files from /hdd03/zhangyiyang/data/AR/background/0527/frames/150, get 4 nothing samples\nfinish coping files from /hdd03/zhangyiyang/data/AR/background/0527/frames/151, get 4 nothing samples\nfinish coping files from /hdd03/zhangyiyang/data/AR/background/0527/frames/152, get 4 nothing samples\nfinish coping files from /hdd03/zhangyiyang/data/AR/background/0527/frames/153, get 4 nothing samples\nfinish coping files from /hdd03/zhangyiyang/data/AR/background/0527/frames/154, get 4 nothing samples\nfinish coping files from /hdd03/zhangyiyang/data/AR/background/0527/frames/155, get 4 nothing samples\nfinish coping files from /hdd03/zhangyiyang/data/AR/background/0527/frames/156, get 4 nothing samples\nfinish coping files from /hdd03/zhangyiyang/data/AR/background/0527/frames/157, get 4 nothing samples\nfinish coping files from /hdd03/zhangyiyang/data/AR/background/0527/frames/158, get 4 nothing samples\nfinish coping files from /hdd03/zhangyiyang/data/AR/background/0527/frames/159, get 4 nothing samples\nfinish coping files from /hdd03/zhangyiyang/data/AR/background/0527/frames/160, get 4 nothing samples\nfinish coping files from /hdd03/zhangyiyang/data/AR/background/0527/frames/161, get 4 nothing samples\nfinish coping files from /hdd03/zhangyiyang/data/AR/background/0527/frames/162, get 4 nothing samples\nfinish coping files from /hdd03/zhangyiyang/data/AR/background/0527/frames/163, get 4 nothing samples\nfinish coping files from /hdd03/zhangyiyang/data/AR/background/0527/frames/164, get 4 nothing samples\nfinish coping files from /hdd03/zhangyiyang/data/AR/background/0527/frames/165, get 4 nothing samples\nfinish coping files from /hdd03/zhangyiyang/data/AR/background/0527/frames/166, get 4 nothing samples\nfinish coping files from /hdd03/zhangyiyang/data/AR/background/0527/frames/167, get 4 nothing samples\nfinish coping files from /hdd03/zhangyiyang/data/AR/background/0527/frames/168, get 4 nothing samples\nfinish coping files from /hdd03/zhangyiyang/data/AR/background/0527/frames/169, get 4 nothing samples\nfinish coping files from /hdd03/zhangyiyang/data/AR/background/0527/frames/170, get 4 nothing samples\nfinish coping files from /hdd03/zhangyiyang/data/AR/background/0527/frames/171, get 4 nothing samples\nfinish coping files from /hdd03/zhangyiyang/data/AR/background/0527/frames/172, get 4 nothing samples\nfinish coping files from /hdd03/zhangyiyang/data/AR/background/0527/frames/173, get 4 nothing samples\nfinish coping files from /hdd03/zhangyiyang/data/AR/background/0527/frames/174, get 4 nothing samples\nfinish coping files from /hdd03/zhangyiyang/data/AR/background/0527/frames/175, get 4 nothing samples\nfinish coping files from /hdd03/zhangyiyang/data/AR/background/0527/frames/176, get 4 nothing samples\nfinish coping files from /hdd03/zhangyiyang/data/AR/background/0527/frames/177, get 4 nothing samples\nfinish coping files from /hdd03/zhangyiyang/data/AR/background/0527/frames/178, get 4 nothing samples\nfinish coping files from /hdd03/zhangyiyang/data/AR/background/0527/frames/179, get 4 nothing samples\nfinish coping files from /hdd03/zhangyiyang/data/AR/background/0527/frames/180, get 4 nothing samples\nfinish coping files from /hdd03/zhangyiyang/data/AR/background/0527/frames/181, get 4 nothing samples\nfinish coping files from /hdd03/zhangyiyang/data/AR/background/0527/frames/182, get 4 nothing samples\nfinish coping files from /hdd03/zhangyiyang/data/AR/background/0527/frames/183, get 4 nothing samples\nfinish coping files from /hdd03/zhangyiyang/data/AR/background/0527/frames/184, get 4 nothing samples\nfinish coping files from /hdd03/zhangyiyang/data/AR/background/0527/frames/185, get 4 nothing samples\nfinish coping files from /hdd03/zhangyiyang/data/AR/background/0527/frames/186, get 4 nothing samples\nfinish coping files from /hdd03/zhangyiyang/data/AR/background/0527/frames/187, get 4 nothing samples\nfinish coping files from /hdd03/zhangyiyang/data/AR/background/0527/frames/188, get 4 nothing samples\nfinish coping files from /hdd03/zhangyiyang/data/AR/background/0527/frames/189, get 4 nothing samples\nfinish coping files from /hdd03/zhangyiyang/data/AR/background/0527/frames/190, get 4 nothing samples\nfinish coping files from /hdd03/zhangyiyang/data/AR/background/0527/frames/191, get 4 nothing samples\nfinish coping files from /hdd03/zhangyiyang/data/AR/background/0527/frames/192, get 4 nothing samples\nfinish coping files from /hdd03/zhangyiyang/data/AR/background/0527/frames/193, get 4 nothing samples\nfinish coping files from /hdd03/zhangyiyang/data/AR/background/0527/frames/194, get 4 nothing samples\nfinish coping files from /hdd03/zhangyiyang/data/AR/background/0527/frames/195, get 4 nothing samples\nfinish coping files from /hdd03/zhangyiyang/data/AR/background/0527/frames/196, get 4 nothing samples\nfinish coping files from /hdd03/zhangyiyang/data/AR/background/0527/frames/197, get 4 nothing samples\nfinish coping files from /hdd03/zhangyiyang/data/AR/background/0527/frames/198, get 4 nothing samples\nfinish coping files from /hdd03/zhangyiyang/data/AR/background/0527/frames/199, get 4 nothing samples\nfinish coping files from /hdd03/zhangyiyang/data/AR/background/0527/frames/200, get 4 nothing samples\n"
    }
   ],
   "source": [
    "# background samples\n",
    "to_label_summary_dir = \"/hdd02/zhangyiyang/temporal-shift-module/data/AR/label/summary\"\n",
    "background_img_dir = os.path.join(output_dir, \"nothing\")\n",
    "background_save_every_n_steps = 10\n",
    "for to_file in os.listdir(to_label_summary_dir):\n",
    "    if \"background\" in to_file and \"flip\" not in to_file:\n",
    "        with open(os.path.join(to_label_summary_dir, to_file), \"r\") as f:\n",
    "            samples = [line.strip() for line in f]\n",
    "        for sample in samples:\n",
    "            frames_dir = sample.split(\" \")[0]\n",
    "            _do_copy_imgs(frames_dir, background_img_dir, save_every_n_steps=background_save_every_n_steps)\n",
    "\n"
   ]
  },
  {
   "cell_type": "code",
   "execution_count": 6,
   "metadata": {},
   "outputs": [
    {
     "output_type": "stream",
     "name": "stdout",
     "text": "finish coping files from /hdd02/zhangyiyang/temporal-shift-module/data/AR/images/EgoDexter/Rotunda, get 287 other samples\nfinish coping files from /hdd02/zhangyiyang/temporal-shift-module/data/AR/images/EgoDexter/Desk, get 100 other samples\nfinish coping files from /hdd02/zhangyiyang/temporal-shift-module/data/AR/images/EgoDexter/Kitchen, get 100 other samples\n"
    }
   ],
   "source": [
    "# EgoDexter\n",
    "ego_dexter_dir = \"/hdd02/zhangyiyang/temporal-shift-module/data/AR/images/EgoDexter\"\n",
    "ego_dexter_save_every_n_steps = 5\n",
    "other_imgs_dir = os.path.join(output_dir, \"other\")\n",
    "for sub_dir in os.listdir(ego_dexter_dir):\n",
    "    _do_copy_imgs(os.path.join(ego_dexter_dir, sub_dir), other_imgs_dir, save_every_n_steps=ego_dexter_save_every_n_steps)"
   ]
  },
  {
   "cell_type": "code",
   "execution_count": 7,
   "metadata": {},
   "outputs": [
    {
     "output_type": "stream",
     "name": "stdout",
     "text": "finish coping files from /hdd02/zhangyiyang/temporal-shift-module/data/AR/images/FreiHAND/other, get 1826 other samples\nfinish coping files from /hdd02/zhangyiyang/temporal-shift-module/data/AR/images/FreiHAND/close, get 43 close samples\nfinish coping files from /hdd02/zhangyiyang/temporal-shift-module/data/AR/images/FreiHAND/left, get 1 left samples\nfinish coping files from /hdd02/zhangyiyang/temporal-shift-module/data/AR/images/FreiHAND/right, get 1 right samples\nfinish coping files from /hdd02/zhangyiyang/temporal-shift-module/data/AR/images/FreiHAND/ok, get 16 ok samples\n"
    }
   ],
   "source": [
    "# FreiHand\n",
    "freihand_dir = \"/hdd02/zhangyiyang/temporal-shift-module/data/AR/images/FreiHAND\"\n",
    "freihand_save_every_n_steps_dict = {\n",
    "    \"nothing\": 1,\n",
    "    \"other\": 2,\n",
    "    \"close\": 1,\n",
    "    \"left\": 1,\n",
    "    \"right\": 1,\n",
    "    \"ok\": 1,\n",
    "}\n",
    "for category in categories:\n",
    "    if not os.path.exists(os.path.join(freihand_dir, category)):\n",
    "        continue\n",
    "    _do_copy_imgs(os.path.join(freihand_dir, category), \n",
    "                  os.path.join(output_dir, category),\n",
    "                  save_every_n_steps=freihand_save_every_n_steps_dict[category])"
   ]
  },
  {
   "cell_type": "code",
   "execution_count": 8,
   "metadata": {},
   "outputs": [
    {
     "output_type": "stream",
     "name": "stdout",
     "text": "nothing 6598\nother 4171\nclose 2365\nleft 2319\nright 2319\nok 3108\n"
    }
   ],
   "source": [
    "# summary\n",
    "for category in categories:\n",
    "    print(category, len(os.listdir(os.path.join(output_dir, category))))"
   ]
  },
  {
   "cell_type": "code",
   "execution_count": 13,
   "metadata": {},
   "outputs": [],
   "source": [
    "train_dir = \"/hdd02/zhangyiyang/temporal-shift-module/data/AR/images/train\"\n",
    "if not os.path.exists(train_dir):\n",
    "    os.makedirs(train_dir)\n",
    "for category in categories:\n",
    "    cur_dir = os.path.join(train_dir, category)\n",
    "    if not os.path.exists(cur_dir):\n",
    "        os.makedirs(cur_dir)"
   ]
  },
  {
   "cell_type": "code",
   "execution_count": 14,
   "metadata": {},
   "outputs": [],
   "source": [
    "val_dir = \"/hdd02/zhangyiyang/temporal-shift-module/data/AR/images/val\"\n",
    "if not os.path.exists(val_dir):\n",
    "    os.makedirs(val_dir)\n",
    "for category in categories:\n",
    "    cur_dir = os.path.join(val_dir, category)\n",
    "    if not os.path.exists(cur_dir):\n",
    "        os.makedirs(cur_dir)"
   ]
  },
  {
   "cell_type": "code",
   "execution_count": 15,
   "metadata": {},
   "outputs": [],
   "source": [
    "val_percent = 0.1\n",
    "for category in categories:\n",
    "    cur_total_dir = os.path.join(output_dir, category)\n",
    "    file_names = os.listdir(cur_total_dir)\n",
    "    random.shuffle(file_names)\n",
    "    val_cnt = int(len(file_names)*val_percent)\n",
    "\n",
    "    cur_train_dir = os.path.join(train_dir, category)\n",
    "    for file_name in file_names[:-val_cnt]:\n",
    "        shutil.copy(os.path.join(cur_total_dir, file_name), os.path.join(cur_train_dir, file_name))\n",
    "    cur_val_dir = os.path.join(val_dir, category)\n",
    "    for file_name in file_names[-val_cnt:]:\n",
    "        shutil.copy(os.path.join(cur_total_dir, file_name), os.path.join(cur_val_dir, file_name))\n"
   ]
  },
  {
   "cell_type": "code",
   "execution_count": 16,
   "metadata": {},
   "outputs": [
    {
     "output_type": "stream",
     "name": "stdout",
     "text": "nothing 5939\nother 3754\nclose 2129\nleft 2088\nright 2088\nok 2798\n"
    }
   ],
   "source": [
    "# summary\n",
    "for category in categories:\n",
    "    print(category, len(os.listdir(os.path.join(train_dir, category))))"
   ]
  },
  {
   "cell_type": "code",
   "execution_count": 17,
   "metadata": {},
   "outputs": [
    {
     "output_type": "stream",
     "name": "stdout",
     "text": "nothing 659\nother 417\nclose 236\nleft 231\nright 231\nok 310\n"
    }
   ],
   "source": [
    "# summary\n",
    "for category in categories:\n",
    "    print(category, len(os.listdir(os.path.join(val_dir, category))))"
   ]
  },
  {
   "cell_type": "code",
   "execution_count": null,
   "metadata": {},
   "outputs": [],
   "source": []
  }
 ],
 "metadata": {
  "language_info": {
   "codemirror_mode": {
    "name": "ipython",
    "version": 3
   },
   "file_extension": ".py",
   "mimetype": "text/x-python",
   "name": "python",
   "nbconvert_exporter": "python",
   "pygments_lexer": "ipython3",
   "version": "3.7.7-final"
  },
  "orig_nbformat": 2,
  "kernelspec": {
   "name": "python37764bitzyypytorch15tsmconda972973617df842a49020523b275c729d",
   "display_name": "Python 3.7.7 64-bit ('zyy_pytorch1.5_tsm': conda)"
  }
 },
 "nbformat": 4,
 "nbformat_minor": 2
}