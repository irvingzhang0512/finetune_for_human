{
 "cells": [
  {
   "cell_type": "code",
   "execution_count": 1,
   "metadata": {},
   "outputs": [],
   "source": [
    "import matplotlib.pyplot as plt\n",
    "import cv2\n",
    "import numpy as np\n",
    "import os\n",
    "import random\n",
    "from tqdm import tqdm\n",
    "import shutil"
   ]
  },
  {
   "cell_type": "code",
   "execution_count": 2,
   "metadata": {},
   "outputs": [],
   "source": [
    "img_label_path = \"/hdd02/zhangyiyang/temporal-shift-module/data/AR/label/img_labels\"\n",
    "original_img_samples = []\n",
    "for fname in os.listdir(img_label_path):\n",
    "    with open(os.path.join(img_label_path, fname), \"r\") as f:\n",
    "        original_img_samples.extend([line.strip() for line in f])"
   ]
  },
  {
   "cell_type": "code",
   "execution_count": 3,
   "metadata": {},
   "outputs": [],
   "source": [
    "category_file_path = \"/hdd02/zhangyiyang/temporal-shift-module/data/AR/label/category.txt\"\n",
    "with open(category_file_path, \"r\") as f:\n",
    "    category_id_to_name = {k: v.strip() for k, v in enumerate(f)}"
   ]
  },
  {
   "cell_type": "code",
   "execution_count": 4,
   "metadata": {},
   "outputs": [],
   "source": [
    "include_ids = []\n",
    "exclude_ids = []\n",
    "if len(include_ids) + len(exclude_ids) != 0:\n",
    "    new_samples = []\n",
    "    for sample in original_img_samples:\n",
    "        cur_id = sample.split(\" \")[-1]\n",
    "        if len(include_ids) != 0 and cur_id not in include_ids:\n",
    "            continue\n",
    "        if len(exclude_ids) != 0 and cur_id in exclude_ids:\n",
    "            continue\n",
    "        new_samples.append(sample)\n",
    "    print(len(original_img_samples), len(new_samples))\n",
    "    img_samples = new_samples\n",
    "else:\n",
    "    img_samples = original_img_samples"
   ]
  },
  {
   "cell_type": "code",
   "execution_count": 5,
   "metadata": {},
   "outputs": [],
   "source": [
    "# img_cnt = 10\n",
    "# random.shuffle(img_samples)\n",
    "# for i in range(img_cnt):\n",
    "#     sample = img_samples[i]\n",
    "#     img_path, label_id = sample.split(\" \")\n",
    "#     img = np.array(cv2.imread(img_path))[:, :, ::-1]\n",
    "#     label = category_id_to_name[int(label_id)]\n",
    "#     print(label)\n",
    "#     plt.imshow(img)\n",
    "#     plt.show()"
   ]
  },
  {
   "cell_type": "code",
   "execution_count": 6,
   "metadata": {},
   "outputs": [
    {
     "output_type": "execute_result",
     "data": {
      "text/plain": "{0: 0, 1: 0, 2: 0, 3: 0, 4: 0, 5: 0}"
     },
     "metadata": {},
     "execution_count": 6
    }
   ],
   "source": [
    "output_img_dir = \"/hdd02/zhangyiyang/temporal-shift-module/data/AR/images/openpose_results_raw\"\n",
    "if not os.path.exists(output_img_dir):\n",
    "    os.makedirs(output_img_dir)\n",
    "category_cur_ids = {}\n",
    "for category_id, category in category_id_to_name.items():\n",
    "    cur_category_dir = os.path.join(output_img_dir, category)\n",
    "    if not os.path.exists(cur_category_dir):\n",
    "        os.makedirs(cur_category_dir)\n",
    "    category_cur_ids[category_id] = len(os.listdir(cur_category_dir))\n",
    "category_cur_ids"
   ]
  },
  {
   "cell_type": "code",
   "execution_count": 7,
   "metadata": {
    "tags": [
     "outputPrepend",
     "outputPrepend",
     "outputPrepend",
     "outputPrepend",
     "outputPrepend",
     "outputPrepend"
    ]
   },
   "outputs": [
    {
     "output_type": "stream",
     "name": "stderr",
     "text": "100%|██████████| 53218/53218 [00:10<00:00, 5157.11it/s]\n"
    }
   ],
   "source": [
    "for sample in tqdm(img_samples):\n",
    "    row = sample.split(\" \")\n",
    "    label_id = int(row[1])\n",
    "    category_cur_ids[label_id] += 1\n",
    "    output_file_name = \"{:05d}.jpg\".format(category_cur_ids[label_id])\n",
    "    output_file_path = os.path.join(output_img_dir, category_id_to_name[label_id], output_file_name)\n",
    "    shutil.copy(row[0], output_file_path)\n",
    "    # print(row[0], output_file_path)"
   ]
  }
 ],
 "metadata": {
  "language_info": {
   "codemirror_mode": {
    "name": "ipython",
    "version": 3
   },
   "file_extension": ".py",
   "mimetype": "text/x-python",
   "name": "python",
   "nbconvert_exporter": "python",
   "pygments_lexer": "ipython3",
   "version": "3.7.7-final"
  },
  "orig_nbformat": 2,
  "kernelspec": {
   "name": "python37764bitzyypytorch15tsmconda972973617df842a49020523b275c729d",
   "display_name": "Python 3.7.7 64-bit ('zyy_pytorch1.5_tsm': conda)"
  }
 },
 "nbformat": 4,
 "nbformat_minor": 2
}